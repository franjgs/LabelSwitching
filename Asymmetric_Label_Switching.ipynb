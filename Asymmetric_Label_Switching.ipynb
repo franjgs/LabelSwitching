{
  "nbformat": 4,
  "nbformat_minor": 0,
  "metadata": {
    "colab": {
      "name": "Asymmetric_Label_Switching.ipynb",
      "provenance": [],
      "collapsed_sections": [],
      "toc_visible": true,
      "authorship_tag": "ABX9TyOcUUzreDFRJrmYGybW3PCP",
      "include_colab_link": true
    },
    "kernelspec": {
      "name": "python3",
      "display_name": "Python 3"
    },
    "language_info": {
      "name": "python"
    }
  },
  "cells": [
    {
      "cell_type": "markdown",
      "metadata": {
        "id": "view-in-github",
        "colab_type": "text"
      },
      "source": [
        "<a href=\"https://colab.research.google.com/github/franjgs/LabelSwitching/blob/main/Asymmetric_Label_Switching.ipynb\" target=\"_parent\"><img src=\"https://colab.research.google.com/assets/colab-badge.svg\" alt=\"Open In Colab\"/></a>"
      ]
    },
    {
      "cell_type": "markdown",
      "metadata": {
        "id": "aYqCrl5xxtVc"
      },
      "source": [
        "# Label Switching\n",
        "\n",
        "---\n",
        "\n"
      ]
    },
    {
      "cell_type": "markdown",
      "metadata": {
        "id": "-j1f6txiyHre"
      },
      "source": [
        "## Ensembles\n",
        "\n",
        "Machine ensembles allow to improve the performance of single learning\n",
        "machines by aggregating the outputs of a number of them -learning units or\n",
        "learners- that are trained under diverse conditions [1, 2]. Since the 1990s,\n",
        "they served, in particular, to alleviate the practical limitations that the size\n",
        "of training datasets impose to the approximation capacity of shallow Multi-\n",
        "Layer Perceptrons (MLPs)."
      ]
    },
    {
      "cell_type": "markdown",
      "metadata": {
        "id": "zJOGrTKNzU0x"
      },
      "source": [
        "### Diversity"
      ]
    },
    {
      "cell_type": "markdown",
      "metadata": {
        "id": "uvQryZTj16mo"
      },
      "source": [
        "#### Bagging\n",
        "\n",
        "Bagging type diversifications (resampling) introduce some risks {deletion of critical samples, emphasis of outliers, and even sample generation can create distortions in the class likelihoods."
      ]
    },
    {
      "cell_type": "markdown",
      "metadata": {
        "id": "wG3yppwN2K3t"
      },
      "source": [
        ""
      ]
    },
    {
      "cell_type": "markdown",
      "metadata": {
        "id": "xiNJXmbEzfII"
      },
      "source": [
        "#### Label Switching"
      ]
    },
    {
      "cell_type": "markdown",
      "metadata": {
        "id": "PD9c2OgEzXqA"
      },
      "source": [
        "## Imbalanced Problems\n",
        "\n",
        "Imbalanced classi\fcation deserves much attention because it appears in\n",
        "many important real world problems of di\u000berent application areas. Those\n",
        "problems have much di\u000berent class population sizes and/or classi\fcations\n",
        "costs.\n",
        "As a consequence, conventionally designed discriminative classi\fers do\n",
        "not provide satisfactory results: They naturally tend to decide in favour of\n",
        "the majority class. Among the procedures that serve to combat this undesirable\n",
        "e\u000bect {references [10, 11, 12, 13, 14, 15] o\u000ber clear and complete\n",
        "perspectives,{ there are methods based on sample preprocessing, and other\n",
        "that apply modi\fed learning algorithms, such as one-class or modi\fed kernel\n",
        "Support Vector Machines [16, 17]. Fuzzy formulations have also been applied\n",
        "[18]. Recently, there are contributions that include time-sensitive elements\n",
        "[19, 20]."
      ]
    },
    {
      "cell_type": "markdown",
      "metadata": {
        "id": "kCU0j8Xf0q6z"
      },
      "source": [
        "### Techniques for Imbalanced Problems\n",
        "The techniques based on preprocessing the (training) samples are simple\n",
        "and effective. \n",
        "\n",
        "They include, \n",
        "\n",
        "1. Increasing the cost of wrongly classifying the minority samples [21]\n",
        "2. Oversampling the minority and/or undersampling the majority classes [22, 23]{that can be considered as asymmetric versions of bagging,\n",
        "3. Generating minority samples {SMOTE [24] is a successful mechanism from which many modi\fcations have been proposed.\n",
        "\n",
        "Obviously, the classification problems that result from these processes are more balanced, and, under certain conditions, the solution of the original classification problem can be obtained from their results."
      ]
    },
    {
      "cell_type": "markdown",
      "metadata": {
        "id": "MVI0vA2n0R6H"
      },
      "source": [
        "###Asymmetric Label Switching"
      ]
    },
    {
      "cell_type": "markdown",
      "metadata": {
        "id": "1eRoMcBazlMs"
      },
      "source": [
        "# Code for Assymetric Label Switching"
      ]
    },
    {
      "cell_type": "markdown",
      "metadata": {
        "id": "t3FD_Y4i8g4N"
      },
      "source": [
        "# Load some standard packages"
      ]
    },
    {
      "cell_type": "code",
      "metadata": {
        "id": "ybQORDb2xr4o"
      },
      "source": [
        "import numpy as np\n",
        "import pandas as pd\n",
        "\n",
        "import time\n",
        "import scipy.io as sio\n",
        "from scipy.interpolate import interp1d\n",
        "\n",
        "import matplotlib.pyplot as plt"
      ],
      "execution_count": 1,
      "outputs": []
    },
    {
      "cell_type": "code",
      "metadata": {
        "id": "RhoNHTHZJJsA"
      },
      "source": [
        "from sklearn import metrics\n",
        "from sklearn.metrics import f1_score, roc_curve, auc, roc_auc_score\n",
        "from sklearn.preprocessing import StandardScaler\n",
        "\n",
        "def perf_measure(y_actual, y_hat):\n",
        "\n",
        "    TP = 0\n",
        "    FP = 0\n",
        "    TN = 0\n",
        "    FN = 0\n",
        "\n",
        "    for i in range(len(y_hat)):\n",
        "        if y_actual[i]==y_hat[i]:\n",
        "            if y_actual[i]==1:\n",
        "                TP += 1\n",
        "            else:\n",
        "                TN += 1\n",
        "        else:\n",
        "            if y_actual[i]==1:\n",
        "                FN += 1\n",
        "            else:\n",
        "                FP += 1\n",
        "\n",
        "    return TP, FP, TN, FN\n",
        "\n",
        "def ROC_points(L, f):\n",
        "\n",
        "  \"\"\"\n",
        "  Calculates the value of the discriminant function for a dx1 dimensional\n",
        "  sample given covariance matrix and mean vector.\n",
        "  \"\"\"\n",
        "\n",
        "  FPR=[]\n",
        "  TPR=[]\n",
        "  P=len(np.where(L==+1)[0])\n",
        "  N=len(np.where(L==-1)[0])\n",
        "\n",
        "  B=sorted(range(len(f)),key=lambda x:f[x],reverse=True)\n",
        "\n",
        "  L_sorted=L[B]\n",
        "  FP=0\n",
        "  TP=0\n",
        "  f_prev=1e45\n",
        "  i=0\n",
        "\n",
        "  while i < len(L_sorted):\n",
        "      if f[i] !=f_prev:\n",
        "          FPR.append(FP/float(N))\n",
        "          TPR.append(TP/float(P))\n",
        "          f_prev=f[i]\n",
        "      if L_sorted[i]==+1:\n",
        "          TP+=1\n",
        "      else:\n",
        "          FP+=1\n",
        "      i+=1\n",
        "\n",
        "  FPR.append(FP/float(N))\n",
        "  TPR.append(TP/float(P))\n",
        "\n",
        "  return FPR, TPR"
      ],
      "execution_count": 2,
      "outputs": []
    },
    {
      "cell_type": "code",
      "metadata": {
        "id": "f4QY8hMf9Rx0"
      },
      "source": [
        "from sklearn.linear_model import LogisticRegression\n",
        "from sklearn.naive_bayes import GaussianNB\n",
        "from sklearn.neural_network import MLPClassifier, MLPRegressor\n",
        "\n",
        "from sklearn.neighbors import KNeighborsClassifier\n",
        "from sklearn.svm import SVC\n",
        "from sklearn.gaussian_process import GaussianProcessClassifier\n",
        "from sklearn.gaussian_process.kernels import RBF\n",
        "from sklearn.tree import DecisionTreeClassifier\n",
        "from sklearn.discriminant_analysis import QuadraticDiscriminantAnalysis\n",
        "\n",
        "\n",
        "from sklearn.ensemble import RandomForestClassifier, VotingClassifier, GradientBoostingClassifier, AdaBoostClassifier\n",
        "\n",
        "nh = 4\n",
        "# MLP0 = MLPRegressor(solver='lbfgs', alpha = 1, activation = 'tanh', hidden_layer_sizes=(nh, ), max_iter=1000) #, random_state=1)\n",
        "MLPc = MLPClassifier(solver='lbfgs', alpha = 1, activation = 'tanh', hidden_layer_sizes=(nh, ), max_iter=1000) #, random_state=1)\n",
        "\n",
        "classifiers = [\n",
        "    KNeighborsClassifier(3),                                # 0. Accepatble performance \n",
        "    SVC(kernel=\"linear\", C=0.025, probability=True),        # 1. Very Bad performance. Very Slow (5-fold validation to estimate pyX)\n",
        "    SVC(gamma=2, C=1, probability=True),                    # 2. Very Bad performance. Very Slow (5-fold validation to estimate pyX)\n",
        "    GaussianProcessClassifier(1.0 * RBF(1.0)),              # 3. Very very Slow\n",
        "    DecisionTreeClassifier(max_depth=5),                    # 4. Accepatble performance \n",
        "    RandomForestClassifier(max_depth=5, n_estimators=3),    # 5. Bad Performace  max_features=1),\n",
        "    GradientBoostingClassifier(n_estimators = 3),           # 6. Very Bad performance\n",
        "    AdaBoostClassifier(n_estimators = 3, base_estimator = GaussianNB(), learning_rate=1),   # 7. Bad performance\n",
        "    GaussianNB(),                                           # 8. Medium Performace. Very Fast\n",
        "    QuadraticDiscriminantAnalysis(),                        # 9.  Accepatble performance. Very fast. Fails at execution\n",
        "    MLPc                                                    # 10. Best Performace. Slow convergence.\n",
        "    ]\n",
        "\n",
        "K_ens= [1,3] #, 101]\n",
        "learner_ens = classifiers[0]"
      ],
      "execution_count": 3,
      "outputs": []
    },
    {
      "cell_type": "markdown",
      "metadata": {
        "id": "YoYqy9t4-cJO"
      },
      "source": [
        "Label Switching"
      ]
    },
    {
      "cell_type": "markdown",
      "metadata": {
        "id": "dccewfoi-fRp"
      },
      "source": [
        "Conventional (Symmetric) Switching "
      ]
    },
    {
      "cell_type": "code",
      "metadata": {
        "id": "oXnQv8TX9fOu"
      },
      "source": [
        "def breiman_switching(y, frsw=0.0):\n",
        "\n",
        "    # frsw: Label Switching Rate from Minority to Majority class\n",
        "\n",
        "    ysw=1*y;\n",
        "\n",
        "    idx1=np.where(y==+1)[0]\n",
        "    idx0=np.where(y==-1)[0]\n",
        "\n",
        "    n_flipped=int(round(len(idx1)*frsw))\n",
        "\n",
        "    idx1_sw=np.random.choice(idx1, n_flipped, replace=False)\n",
        "    ysw[idx1_sw]=-y[idx1_sw]\n",
        "\n",
        "    idx0_sw=np.random.choice(idx0, n_flipped, replace=False)\n",
        "    ysw[idx0_sw]=-y[idx0_sw]\n",
        "\n",
        "    return ysw"
      ],
      "execution_count": 4,
      "outputs": []
    },
    {
      "cell_type": "markdown",
      "metadata": {
        "id": "a6_vlz-_-lVK"
      },
      "source": [
        "Asymmetric Label Switching"
      ]
    },
    {
      "cell_type": "code",
      "metadata": {
        "id": "Ov3hrLqM9uZD"
      },
      "source": [
        "def label_switching(y, alphasw=0.0, betasw=0.0):\n",
        "\n",
        "    # alphasw: Label Switching Rate from Majority to Minority class\n",
        "    # betasw: Label Switching Rate from Minority to Majority class\n",
        "\n",
        "    ysw=1*y;\n",
        "\n",
        "    idx1=np.where(y==+1)[0]\n",
        "    l1=len(idx1)\n",
        "    bet_1=int(round(l1*betasw))\n",
        "    idx1_sw=np.random.choice(idx1,bet_1, replace=False)\n",
        "    ysw[idx1_sw]=-y[idx1_sw]\n",
        "\n",
        "    idx0=np.where(y==-1)[0]\n",
        "    l0=len(idx0)\n",
        "    alph_0=int(round(l0*alphasw))\n",
        "    idx0_sw=np.random.choice(idx0,alph_0, replace=False)\n",
        "    ysw[idx0_sw]=-y[idx0_sw]\n",
        "\n",
        "    return ysw"
      ],
      "execution_count": 5,
      "outputs": []
    },
    {
      "cell_type": "markdown",
      "metadata": {
        "id": "qHAXAnj9-r7J"
      },
      "source": [
        "Load UCI Datasets"
      ]
    },
    {
      "cell_type": "markdown",
      "metadata": {
        "id": "156P6ndeKojO"
      },
      "source": [
        "Load the dataset via its URL and check the following:\n",
        "\n",
        "- Are the headers showing up properly?\n",
        "- Look at the first 5 and the last 5 rows, do they seem to be in order?\n",
        "- Does the dataset have the correct number of rows and columns as described in the UCI page? \n",
        " - Remember, that UCI does not count the y variable (column of values that we might want to predict via a machine learning model) as an \"attribute\" but rather as a \"class attribute\" so you may end up seeing a number of columns that is one greater than the number listed on the UCI website.\n",
        "- Does UCI list this dataset as having missing values? Check for missing values and see if your analysis corroborates what UCI reports?\n",
        "- if `NaN` values or other missing value indicators are not being detected by `df.isnull().sum()` find a way to replace whatever is indicating the missing values with `np.NaN`.\n",
        "- Use the .describe() function in order to see the summary statistics of both the numeric and non-numeric columns. "
      ]
    },
    {
      "cell_type": "code",
      "metadata": {
        "id": "oKVsp1lD_Z6v"
      },
      "source": [
        "# Load data from URL using pandas read_csv method\n",
        "filename_i='balance-scale'\n",
        "URL_path = 'https://archive.ics.uci.edu/ml/machine-learning-databases/'+filename_i+'/'+filename_i+'.data'\n",
        "# print(URL_path)\n",
        "Xy = pd.read_csv(URL_path)\n",
        "di = {'L': -1, 'B': +1, 'R': -1}\n",
        "Xy.replace({'B': di}, inplace=True)\n",
        "y = np.array(Xy['B'])\n",
        "X = np.array(Xy.drop(['B'], axis=1))"
      ],
      "execution_count": 6,
      "outputs": []
    },
    {
      "cell_type": "code",
      "metadata": {
        "id": "xxh0rcSfg99D"
      },
      "source": [
        "filename_i='wine-quality'\n",
        "\n",
        "URL_path = 'https://archive.ics.uci.edu/ml/machine-learning-databases/'+filename_i+'/winequality-red.csv'\n",
        "# print(URL_path)\n",
        "Xy = pd.read_csv(URL_path,  sep=';')\n",
        "\n",
        "Xy['quality'] = Xy['quality'].apply(lambda x: +1 if x <= 4 else -1)\n",
        "y = np.array(Xy['quality'])\n",
        "X = np.array(Xy.drop(['quality'], axis=1))"
      ],
      "execution_count": 7,
      "outputs": []
    },
    {
      "cell_type": "code",
      "metadata": {
        "colab": {
          "base_uri": "https://localhost:8080/"
        },
        "id": "XbtAhP5HB995",
        "outputId": "cbefa11f-d8db-48b8-b25f-e5aba58d2718"
      },
      "source": [
        "dim = X.shape[1]\n",
        "\n",
        "N0 = len(np.where(y==-1)[0])\n",
        "N1 = len(np.where(y==1)[0])\n",
        "\n",
        "index0 = np.where(y==-1)[0]\n",
        "index1 = np.where(y==1)[0]\n",
        "\n",
        "print('N0: %d. N1: %d' % (N0 , N1))"
      ],
      "execution_count": 8,
      "outputs": [
        {
          "output_type": "stream",
          "text": [
            "N0: 1536. N1: 63\n"
          ],
          "name": "stdout"
        }
      ]
    },
    {
      "cell_type": "code",
      "metadata": {
        "id": "LT8p0gEoEs2R"
      },
      "source": [
        "######## Costes y Probabilidades ########\n",
        "P0=float(N0)/float(N0+N1)\n",
        "P1=float(N1)/float(N0+N1)\n",
        "QP=P0/P1\n",
        "\n",
        "P0_1=0.5 # Para la balanced accuracy\n",
        "P1_1=0.5\n",
        "\n",
        "C10=1 # False Positive (FP)\n",
        "C00=0 # True Negative (TN)\n",
        "C01=1 # False Negative (FN)   : QC=1/5\n",
        "C11=0 # True Positive (TP)\n",
        "\n",
        "QC=float(C10-C00)/float(C01-C11)\n",
        "QCT=QC\n",
        "\n",
        "Q=QC*QP\n",
        "######## Costes y Probabilidades ########"
      ],
      "execution_count": 9,
      "outputs": []
    },
    {
      "cell_type": "markdown",
      "metadata": {
        "id": "HqTn-3yXEr0v"
      },
      "source": [
        "Common Parameters"
      ]
    },
    {
      "cell_type": "code",
      "metadata": {
        "id": "aeZr5kUcFH7y"
      },
      "source": [
        "###################### COMMON PARAMETERS ######################\n",
        "\n",
        "n_folds = 1\n",
        "Nruns   = 20\n",
        "Test_size = 25\n",
        "\n",
        "index0 = np.where(y==-1)[0]\n",
        "index1 = np.where(y==1)[0]\n",
        "\n",
        "l_test0 = int(N0*0.01*Test_size)\n",
        "l_test1 = int(N1*0.01*Test_size)\n",
        "\n",
        "Alpha = np.linspace(0,0.45,10) # Label Switching Rate from Majority to Minority class\n",
        "Alpha = [0, 0.1, 0.2, 0.3, 0.4]\n",
        "Beta = np.linspace(0,0.2,5)     # Label Switching Rate from Minority to Majority class\n",
        "Beta = [0]\n",
        "eps=np.finfo(float).eps"
      ],
      "execution_count": 10,
      "outputs": []
    },
    {
      "cell_type": "code",
      "metadata": {
        "id": "ZsLgusFHGaYP"
      },
      "source": [
        "filename_o=filename_i+'_NW_nh_'+str(nh)+'_TS_'+str(Test_size)+'.mat'\n",
        "\n",
        "perf_sw_K1 = np.zeros([Nruns, len(Alpha), len(Beta), len(K_ens), 6]) # Confusion Matrix + MCC + F1\n",
        "perf_sw_K2 = np.zeros([Nruns, len(Alpha), len(Beta), len(K_ens)])   # CBL\n",
        "perf_sw_K3 = np.zeros([Nruns, len(Alpha), len(Beta), len(K_ens)])   # AuC\n",
        "\n",
        "lROC=1001\n",
        "mean_fpr = np.logspace(-4, 0, lROC)\n",
        "perf_sw_K4=np.zeros([len(Alpha), len(Beta), len(K_ens), lROC, 2])     # Test:  ROC(FPR, TPR)\n",
        " "
      ],
      "execution_count": 11,
      "outputs": []
    },
    {
      "cell_type": "markdown",
      "metadata": {
        "id": "TG3sCHobHNa5"
      },
      "source": [
        "Main Loop\n"
      ]
    },
    {
      "cell_type": "code",
      "metadata": {
        "colab": {
          "base_uri": "https://localhost:8080/",
          "height": 690
        },
        "id": "ad2IG12lHP3I",
        "outputId": "9fe25731-dc9e-45df-e2dc-1bfdff0d667c"
      },
      "source": [
        "b_idx=0\n",
        "for beta in Beta:\n",
        "    a_idx=0\n",
        "    for alpha in Alpha:        \n",
        "        start = time.time()\n",
        "        for nruns in range(Nruns):\n",
        "            \n",
        "            idx0_test = np.random.choice(index0, l_test0, replace=False)\n",
        "            idx1_test = np.random.choice(index1, l_test1, replace=False)\n",
        "            idx_test = np.sort(np.concatenate((idx0_test, idx1_test), axis=0))\n",
        "\n",
        "            X_train = np.delete(X, idx_test, axis=0)\n",
        "            X_test = X[idx_test]\n",
        "            y_train = np.delete(y, idx_test, axis=0)\n",
        "            y_test = y[idx_test]\n",
        "                         \n",
        "            N0_tr = len(np.where(y_train==-1)[0])\n",
        "            N1_tr = len(np.where(y_train==1)[0])\n",
        "\n",
        "            P0_tr = float(N0_tr)/float(N0_tr+N1_tr)\n",
        "            P1_tr = float(N1_tr)/float(N0_tr+N1_tr)\n",
        "            \n",
        "            QP_tr = P0_tr/P1_tr\n",
        "\n",
        "            y_true = y_test\n",
        "\n",
        "            k_idx = 0\n",
        "            for K in K_ens:\n",
        "\n",
        "                o_x=np.ones([len(y_test)])\n",
        "\n",
        "                o_x_tst_ens=np.zeros([K,len(y_test)])\n",
        "\n",
        "                model_name=model_name = type(learner_ens).__name__                \n",
        "                MLP_ens = [learner_ens for kkk in range(K)]\n",
        "\n",
        "                for k in range(K):              \n",
        "                    #################### NORM ####################\n",
        "                    scaler = StandardScaler()\n",
        "                    scaler.fit(X_train)\n",
        "                    X_train_n = scaler.transform(X_train)\n",
        "                    X_test_n = scaler.transform(X_test)\n",
        "                    #################### NORM ####################\n",
        "                    \n",
        "                    ################## Switching ##################\n",
        "                    if alpha==0 and beta==0:\n",
        "                        X_train_s, y_train_s = X_train_n, y_train\n",
        "                    else:\n",
        "                        X_train_s = X_train_n\n",
        "                        y_train_s = label_switching(y_train, alpha, beta)\n",
        "                    \n",
        "                    \n",
        "                    N0_sw = len(np.where(y_train_s==-1)[0])\n",
        "                    N1_sw = len(np.where(y_train_s==1)[0])\n",
        "\n",
        "                    P0_sw = float(N0_sw)/float(N0_sw+N1_sw)\n",
        "                    P1_sw = float(N1_sw)/float(N0_sw+N1_sw)\n",
        "\n",
        "                    QP_sw = P0_sw/P1_sw\n",
        "                    ################## Switching #################\n",
        "                    MLP_ens[k] = MLP_ens[k].fit(X_train_s, y_train_s)\n",
        " \n",
        "                    y_pred = MLP_ens[k].predict_proba(X_test_n)[:,1]*2-1\n",
        "                    \n",
        "                    o_x_tst_ens[k] = y_pred\n",
        "                    \n",
        "                o_x_tst=o_x_tst_ens.mean(0)\n",
        "                pyX_test=(0.5*(o_x_tst+1)-alpha)/(1-alpha-beta)\n",
        "                \n",
        "                FPR_vec, TPR_vec, thresholds = roc_curve(y_true, pyX_test)\n",
        "                roc_auc = auc(FPR_vec, TPR_vec)\n",
        "                perf_sw_K3[nruns,a_idx,b_idx, k_idx] = roc_auc\n",
        "\n",
        "                f_ROC = interp1d(FPR_vec, TPR_vec)\n",
        "\n",
        "                perf_sw_K4[a_idx,b_idx,k_idx,:,0] += mean_fpr\n",
        "                perf_sw_K4[a_idx,b_idx,k_idx,:,1] += f_ROC(mean_fpr)\n",
        "\n",
        "                gamma = (2 * (alpha + (1 - alpha - beta) * (QCT / (QCT + 1))) - 1)\n",
        " \n",
        "                o_x2=np.ones([len(y_test)])\n",
        "                o_x2[o_x_tst < gamma] = -1\n",
        "\n",
        "                TP, FP, TN, FN = perf_measure(y_true, o_x2) \n",
        "\n",
        "                # Sensitivity, hit rate, recall, or true positive rate\n",
        "                TPR=TP/float(TP+FN)\n",
        "\n",
        "                # Specificity (SPC) or true negative rate\n",
        "                SPC=TN/float(TN+FP)\n",
        "\n",
        "                # False positive rate: FPR=FP/float(FP+TN) = 1-SPC\n",
        "                FPR=1-SPC\n",
        "\n",
        "                # False negative rate\n",
        "                FNR=1-TPR\n",
        "\n",
        "                # Mathhews correlation coefficient\n",
        "                if (((TP + FP) == 0) or ((TP + FN) == 0) or ((TN + FP) == 0) or ((TN + FN) == 0)):\n",
        "                    MCC = 0\n",
        "                else:\n",
        "                    MCC = (TP * TN - FP * FN) / np.sqrt(float(TP + FP) * float(TP + FN) * float(TN + FP) * float(TN + FN))\n",
        "\n",
        "                # Accuracy\n",
        "                ACC=(TP+TN)/float(TP+FN+FP+TN)\n",
        "\n",
        "                # F1 Score\n",
        "                F1=2*TP/float(2*TP+FP+FN)\n",
        "\n",
        "                perf_sw_K1[nruns,a_idx,b_idx,k_idx,0]=FPR\n",
        "                perf_sw_K1[nruns,a_idx,b_idx,k_idx,1]=TPR\n",
        "                perf_sw_K1[nruns,a_idx,b_idx,k_idx,2]=SPC\n",
        "                perf_sw_K1[nruns,a_idx,b_idx,k_idx,3]=ACC\n",
        "                perf_sw_K1[nruns,a_idx,b_idx,k_idx,4]=MCC\n",
        "                perf_sw_K1[nruns,a_idx,b_idx,k_idx,5]=F1\n",
        "\n",
        "                perf_sw_K2[nruns,a_idx,b_idx,k_idx]=(FPR*P0_1+FNR*P1_1) # Balanced Accuracy\n",
        "\n",
        "                k_idx+=1\n",
        "\n",
        "        end = time.time()\n",
        "        print('TRAIN TIME:')\n",
        "        print('%.2gs'%(end-start))\n",
        "        print('Alpha: %.2f. Beta: %.2f. IR_sw: %.2f.'  %(alpha,beta,QP_sw))\n",
        "\n",
        "        \n",
        "        for k_idx in range(len(K_ens)):\n",
        "            print('MLP: %d. F1: %f. +- %f MCC: %f. +- %f TPR: %f. FPR: %f' %(K_ens[k_idx],\n",
        "                                                                             np.mean(perf_sw_K1[:,a_idx,b_idx,k_idx,5]), \n",
        "                                                                             np.std(perf_sw_K1[:,a_idx,b_idx,k_idx,5]), \n",
        "                                                                             np.mean(perf_sw_K1[:,a_idx,b_idx,k_idx,4]), \n",
        "                                                                             np.std(perf_sw_K1[:,a_idx,b_idx,k_idx,4]), \n",
        "                                                                             np.mean(perf_sw_K1[:,a_idx,b_idx,k_idx,1]), \n",
        "                                                                             np.mean(perf_sw_K1[:,a_idx,b_idx,k_idx,0])))\n",
        "        a_idx+=1\n",
        "    b_idx+=1\n",
        "\n",
        "perf_sw_K1_std = np.std(perf_sw_K1, axis=0)\n",
        "perf_sw_K1 = np.mean(perf_sw_K1, axis=0)\n",
        "\n",
        "perf_sw_K2_std = np.std(perf_sw_K2, axis=0)\n",
        "perf_sw_K2 = np.mean(perf_sw_K2, axis=0)\n",
        "\n",
        "perf_sw_K3_std = np.std(perf_sw_K3, axis=0)\n",
        "perf_sw_K3 = np.mean(perf_sw_K3, axis=0)\n",
        "\n",
        "perf_sw_K4 /= n_folds*Nruns\n",
        "\n",
        "tprPoints = perf_sw_K4[:,0,1,:,0]\n",
        "fprPoints = perf_sw_K4[:,0,1,:,1]\n",
        "plt.plot(tprPoints[0,:],fprPoints[0,:], label='Alpha 00')\n",
        "plt.plot(tprPoints[1,:],fprPoints[1,:], label='Alpha 01')\n",
        "plt.plot(tprPoints[2,:],fprPoints[2,:], label='Alpha 02')\n",
        "plt.plot(tprPoints[3,:],fprPoints[3,:], label='Alpha 03')\n",
        "plt.plot(tprPoints[4,:],fprPoints[4,:], label='Alpha 04')\n",
        "plt.legend()\n",
        "plt.show()\n",
        "\n",
        "sio.savemat(model_name+'_'+filename_o, {'perf_sw_K1': perf_sw_K1,  \n",
        "                                        'perf_sw_K2': perf_sw_K2, \n",
        "                                        'perf_sw_K3': perf_sw_K3, \n",
        "                                        'perf_sw_K1_std': perf_sw_K1_std,  \n",
        "                                        'perf_sw_K2_std': perf_sw_K2_std, \n",
        "                                        'perf_sw_K3_std': perf_sw_K3_std, \n",
        "                                        'perf_sw_K4': perf_sw_K4, \n",
        "                                        'Alpha':Alpha, 'Beta': Beta, 'K_ens': K_ens})\n"
      ],
      "execution_count": 12,
      "outputs": [
        {
          "output_type": "stream",
          "text": [
            "TRAIN TIME:\n",
            "1.1s\n",
            "Alpha: 0.00. Beta: 0.00. IR_sw: 24.00.\n",
            "MLP: 1. F1: 0.117163. +- 0.068022 MCC: 0.132591. +- 0.086353 TPR: 0.076667. FPR: 0.007812\n",
            "MLP: 3. F1: 0.117163. +- 0.068022 MCC: 0.132591. +- 0.086353 TPR: 0.076667. FPR: 0.007812\n",
            "TRAIN TIME:\n",
            "1.1s\n",
            "Alpha: 0.10. Beta: 0.00. IR_sw: 6.36.\n",
            "MLP: 1. F1: 0.131643. +- 0.083230 MCC: 0.096339. +- 0.085387 TPR: 0.150000. FPR: 0.041146\n",
            "MLP: 3. F1: 0.152553. +- 0.091785 MCC: 0.138349. +- 0.097735 TPR: 0.120000. FPR: 0.016016\n",
            "TRAIN TIME:\n",
            "1.1s\n",
            "Alpha: 0.20. Beta: 0.00. IR_sw: 3.32.\n",
            "MLP: 1. F1: 0.127858. +- 0.044085 MCC: 0.090105. +- 0.055081 TPR: 0.273333. FPR: 0.119010\n",
            "MLP: 3. F1: 0.142565. +- 0.071600 MCC: 0.131176. +- 0.080762 TPR: 0.106667. FPR: 0.014974\n",
            "TRAIN TIME:\n",
            "1.1s\n",
            "Alpha: 0.30. Beta: 0.00. IR_sw: 2.05.\n",
            "MLP: 1. F1: 0.097961. +- 0.037528 MCC: 0.056762. +- 0.066257 TPR: 0.376667. FPR: 0.248047\n",
            "MLP: 3. F1: 0.144568. +- 0.052081 MCC: 0.107704. +- 0.056444 TPR: 0.176667. FPR: 0.049089\n",
            "TRAIN TIME:\n",
            "1.1s\n",
            "Alpha: 0.40. Beta: 0.00. IR_sw: 1.36.\n",
            "MLP: 1. F1: 0.083588. +- 0.062643 MCC: 0.038784. +- 0.069329 TPR: 0.123333. FPR: 0.070443\n",
            "MLP: 3. F1: 0.137054. +- 0.078103 MCC: 0.102862. +- 0.081655 TPR: 0.146667. FPR: 0.038672\n"
          ],
          "name": "stdout"
        },
        {
          "output_type": "display_data",
          "data": {
            "image/png": "[encoded data removed]",
            "text/plain": [
              "<Figure size 432x288 with 1 Axes>"
            ]
          },
          "metadata": {
            "tags": [],
            "needs_background": "light"
          }
        }
      ]
    },
    {
      "cell_type": "code",
      "metadata": {
        "colab": {
          "base_uri": "https://localhost:8080/"
        },
        "id": "0-B7-Zl_RQz-",
        "outputId": "267e0680-e62c-406d-efaf-e9f49e8b48c9"
      },
      "source": [
        "MLP_ens[1].fit(X_train_s, y_train_s)\n",
        "print(MLP_ens[1].predict_proba(X_test_n)[:,1])\n",
        "# print(o_x_tst)\n",
        "print(gamma)\n",
        "print(y_true)\n",
        "print(0.5*(y_true+1)*MLP_ens[1].predict_proba(X_test_n)[:,1])\n",
        "print(0.5*(y_true+1)*o_x_tst_ens[1])"
      ],
      "execution_count": 13,
      "outputs": [
        {
          "output_type": "stream",
          "text": [
            "[0.33333333 0.         0.33333333 0.33333333 0.33333333 0.66666667\n",
            " 0.         0.33333333 1.         0.66666667 0.66666667 0.33333333\n",
            " 0.         0.66666667 0.66666667 1.         0.33333333 0.33333333\n",
            " 0.66666667 0.33333333 0.33333333 0.33333333 0.66666667 0.33333333\n",
            " 0.33333333 0.33333333 0.33333333 1.         0.33333333 1.\n",
            " 0.33333333 1.         0.         0.         0.33333333 0.\n",
            " 0.         0.33333333 0.66666667 0.66666667 0.         0.33333333\n",
            " 0.66666667 0.33333333 0.33333333 0.         0.         1.\n",
            " 0.         0.66666667 1.         0.33333333 0.33333333 0.\n",
            " 0.33333333 0.33333333 1.         0.66666667 0.33333333 0.\n",
            " 0.33333333 0.66666667 0.33333333 0.66666667 0.33333333 0.33333333\n",
            " 0.66666667 0.         0.         0.         0.66666667 0.33333333\n",
            " 0.66666667 0.         0.         0.33333333 0.         0.33333333\n",
            " 0.33333333 0.33333333 0.66666667 0.         0.         0.33333333\n",
            " 0.66666667 0.66666667 0.66666667 0.         0.66666667 0.66666667\n",
            " 0.66666667 0.33333333 0.33333333 0.66666667 0.66666667 0.33333333\n",
            " 0.33333333 0.33333333 0.33333333 0.         0.         0.33333333\n",
            " 0.33333333 0.33333333 0.33333333 0.         1.         0.33333333\n",
            " 0.33333333 0.33333333 0.33333333 0.33333333 0.         1.\n",
            " 0.66666667 0.         0.         0.33333333 0.66666667 0.33333333\n",
            " 0.66666667 0.33333333 1.         0.         0.33333333 0.\n",
            " 0.66666667 0.33333333 0.33333333 0.         0.33333333 0.\n",
            " 0.         0.66666667 0.33333333 0.33333333 0.66666667 0.\n",
            " 0.66666667 0.33333333 0.         0.66666667 0.         0.66666667\n",
            " 0.         0.         0.66666667 0.66666667 0.33333333 0.\n",
            " 0.33333333 0.66666667 1.         0.         0.33333333 0.33333333\n",
            " 0.66666667 0.33333333 0.33333333 0.33333333 0.33333333 0.66666667\n",
            " 0.33333333 0.33333333 0.         0.66666667 0.         0.66666667\n",
            " 0.33333333 0.66666667 0.33333333 0.66666667 0.33333333 0.33333333\n",
            " 0.66666667 0.33333333 0.         0.33333333 0.         0.\n",
            " 0.66666667 0.66666667 0.66666667 0.66666667 0.         0.33333333\n",
            " 0.33333333 0.         0.66666667 0.66666667 0.66666667 0.66666667\n",
            " 1.         0.33333333 0.66666667 0.33333333 1.         0.\n",
            " 0.66666667 0.         0.66666667 0.33333333 0.66666667 0.33333333\n",
            " 0.33333333 0.         0.66666667 0.66666667 0.33333333 0.66666667\n",
            " 0.         0.33333333 0.         0.         0.         0.66666667\n",
            " 0.33333333 0.66666667 0.66666667 0.66666667 0.33333333 0.\n",
            " 0.         0.33333333 0.33333333 0.33333333 0.         0.33333333\n",
            " 0.33333333 0.66666667 0.33333333 0.33333333 0.33333333 0.66666667\n",
            " 0.66666667 0.33333333 0.33333333 0.         0.66666667 0.66666667\n",
            " 0.         0.33333333 0.66666667 0.33333333 0.66666667 0.33333333\n",
            " 0.66666667 1.         0.66666667 0.33333333 0.         0.33333333\n",
            " 0.         0.         0.         0.33333333 0.66666667 0.\n",
            " 0.         0.         0.         0.         0.66666667 0.\n",
            " 0.33333333 0.         0.66666667 0.33333333 0.66666667 0.\n",
            " 0.66666667 0.66666667 0.         0.66666667 0.66666667 0.66666667\n",
            " 0.33333333 0.33333333 1.         0.33333333 0.33333333 0.\n",
            " 0.33333333 1.         0.         0.66666667 0.33333333 1.\n",
            " 0.         0.33333333 0.         0.         0.         0.66666667\n",
            " 0.33333333 0.33333333 0.         0.33333333 0.66666667 0.33333333\n",
            " 0.33333333 0.33333333 0.33333333 0.66666667 0.         0.33333333\n",
            " 0.         0.66666667 0.66666667 0.33333333 0.33333333 0.\n",
            " 0.         0.66666667 1.         0.         0.         0.33333333\n",
            " 0.         0.33333333 0.33333333 0.66666667 0.66666667 0.66666667\n",
            " 0.66666667 1.         1.         0.33333333 0.         0.33333333\n",
            " 0.33333333 0.33333333 0.33333333 1.         0.         0.66666667\n",
            " 0.         0.33333333 0.33333333 0.         0.66666667 0.\n",
            " 0.66666667 0.66666667 0.33333333 0.33333333 0.         0.33333333\n",
            " 0.         0.66666667 0.         1.         0.66666667 0.33333333\n",
            " 0.         1.         0.33333333 1.         0.66666667 0.66666667\n",
            " 0.         0.33333333 0.         0.33333333 0.66666667 0.66666667\n",
            " 0.         0.33333333 0.66666667 0.         0.33333333 0.\n",
            " 0.         0.66666667 0.33333333 0.66666667 0.33333333 1.\n",
            " 0.33333333 0.         0.66666667 0.33333333 0.33333333 0.33333333\n",
            " 0.33333333 0.66666667 0.33333333 0.33333333 0.33333333 0.66666667\n",
            " 0.66666667 0.33333333 0.66666667 0.33333333 0.66666667 0.33333333\n",
            " 0.33333333 0.33333333 0.        ]\n",
            "0.3999999999999999\n",
            "[-1 -1 -1 -1 -1 -1 -1 -1 -1 -1 -1 -1 -1 -1 -1  1 -1 -1 -1 -1 -1 -1 -1 -1\n",
            " -1 -1 -1 -1 -1 -1 -1 -1 -1 -1 -1 -1 -1 -1 -1 -1 -1 -1 -1 -1 -1 -1 -1 -1\n",
            " -1 -1  1 -1 -1 -1 -1 -1 -1 -1 -1 -1  1 -1 -1 -1 -1 -1 -1 -1  1 -1 -1 -1\n",
            " -1 -1 -1 -1 -1 -1 -1 -1 -1 -1 -1 -1 -1 -1 -1 -1 -1 -1 -1 -1 -1 -1 -1 -1\n",
            " -1 -1 -1 -1 -1 -1 -1 -1 -1 -1 -1 -1 -1 -1 -1 -1 -1 -1 -1 -1 -1 -1 -1 -1\n",
            " -1 -1  1 -1 -1 -1 -1 -1 -1 -1 -1 -1 -1 -1 -1 -1  1 -1 -1 -1 -1 -1 -1 -1\n",
            " -1 -1 -1  1 -1 -1 -1 -1 -1 -1 -1 -1 -1 -1 -1 -1 -1 -1 -1 -1 -1 -1 -1 -1\n",
            " -1 -1 -1 -1 -1 -1 -1 -1 -1 -1 -1 -1 -1 -1 -1 -1 -1 -1 -1 -1 -1 -1 -1 -1\n",
            " -1 -1 -1 -1 -1 -1 -1 -1 -1 -1 -1 -1 -1 -1 -1 -1 -1  1 -1 -1 -1 -1 -1 -1\n",
            " -1 -1  1 -1 -1 -1 -1 -1 -1 -1 -1 -1 -1 -1 -1 -1 -1 -1 -1 -1 -1 -1 -1 -1\n",
            " -1 -1 -1 -1 -1 -1 -1 -1 -1 -1 -1 -1 -1 -1 -1 -1 -1 -1 -1 -1 -1 -1 -1 -1\n",
            " -1 -1 -1 -1 -1 -1 -1 -1 -1 -1 -1 -1 -1 -1 -1 -1 -1 -1 -1 -1 -1 -1 -1 -1\n",
            " -1 -1 -1 -1 -1 -1  1 -1 -1 -1 -1 -1 -1 -1 -1 -1 -1  1 -1 -1 -1 -1 -1 -1\n",
            " -1 -1 -1 -1 -1 -1 -1 -1 -1 -1 -1  1 -1 -1  1 -1 -1 -1 -1 -1 -1 -1 -1 -1\n",
            " -1 -1 -1 -1 -1 -1 -1 -1 -1 -1 -1 -1 -1 -1 -1 -1 -1 -1 -1 -1 -1 -1 -1 -1\n",
            " -1  1 -1 -1 -1  1 -1 -1 -1 -1 -1 -1 -1 -1 -1 -1 -1 -1 -1 -1 -1 -1 -1 -1\n",
            " -1 -1 -1 -1 -1 -1 -1 -1 -1 -1 -1 -1 -1 -1 -1]\n",
            "[0.         0.         0.         0.         0.         0.\n",
            " 0.         0.         0.         0.         0.         0.\n",
            " 0.         0.         0.         1.         0.         0.\n",
            " 0.         0.         0.         0.         0.         0.\n",
            " 0.         0.         0.         0.         0.         0.\n",
            " 0.         0.         0.         0.         0.         0.\n",
            " 0.         0.         0.         0.         0.         0.\n",
            " 0.         0.         0.         0.         0.         0.\n",
            " 0.         0.         1.         0.         0.         0.\n",
            " 0.         0.         0.         0.         0.         0.\n",
            " 0.33333333 0.         0.         0.         0.         0.\n",
            " 0.         0.         0.         0.         0.         0.\n",
            " 0.         0.         0.         0.         0.         0.\n",
            " 0.         0.         0.         0.         0.         0.\n",
            " 0.         0.         0.         0.         0.         0.\n",
            " 0.         0.         0.         0.         0.         0.\n",
            " 0.         0.         0.         0.         0.         0.\n",
            " 0.         0.         0.         0.         0.         0.\n",
            " 0.         0.         0.         0.         0.         0.\n",
            " 0.         0.         0.         0.         0.         0.\n",
            " 0.         0.         1.         0.         0.         0.\n",
            " 0.         0.         0.         0.         0.         0.\n",
            " 0.         0.         0.         0.         0.66666667 0.\n",
            " 0.         0.         0.         0.         0.         0.\n",
            " 0.         0.         0.         0.66666667 0.         0.\n",
            " 0.         0.         0.         0.         0.         0.\n",
            " 0.         0.         0.         0.         0.         0.\n",
            " 0.         0.         0.         0.         0.         0.\n",
            " 0.         0.         0.         0.         0.         0.\n",
            " 0.         0.         0.         0.         0.         0.\n",
            " 0.         0.         0.         0.         0.         0.\n",
            " 0.         0.         0.         0.         0.         0.\n",
            " 0.         0.         0.         0.         0.         0.\n",
            " 0.         0.         0.         0.         0.         0.\n",
            " 0.         0.         0.         0.         0.         0.66666667\n",
            " 0.         0.         0.         0.         0.         0.\n",
            " 0.         0.         0.66666667 0.         0.         0.\n",
            " 0.         0.         0.         0.         0.         0.\n",
            " 0.         0.         0.         0.         0.         0.\n",
            " 0.         0.         0.         0.         0.         0.\n",
            " 0.         0.         0.         0.         0.         0.\n",
            " 0.         0.         0.         0.         0.         0.\n",
            " 0.         0.         0.         0.         0.         0.\n",
            " 0.         0.         0.         0.         0.         0.\n",
            " 0.         0.         0.         0.         0.         0.\n",
            " 0.         0.         0.         0.         0.         0.\n",
            " 0.         0.         0.         0.         0.         0.\n",
            " 0.         0.         0.         0.         0.         0.\n",
            " 0.         0.         0.         0.         0.         0.\n",
            " 0.33333333 0.         0.         0.         0.         0.\n",
            " 0.         0.         0.         0.         0.         0.33333333\n",
            " 0.         0.         0.         0.         0.         0.\n",
            " 0.         0.         0.         0.         0.         0.\n",
            " 0.         0.         0.         0.         0.         0.66666667\n",
            " 0.         0.         1.         0.         0.         0.\n",
            " 0.         0.         0.         0.         0.         0.\n",
            " 0.         0.         0.         0.         0.         0.\n",
            " 0.         0.         0.         0.         0.         0.\n",
            " 0.         0.         0.         0.         0.         0.\n",
            " 0.         0.         0.         0.         0.         0.\n",
            " 0.         0.33333333 0.         0.         0.         0.66666667\n",
            " 0.         0.         0.         0.         0.         0.\n",
            " 0.         0.         0.         0.         0.         0.\n",
            " 0.         0.         0.         0.         0.         0.\n",
            " 0.         0.         0.         0.         0.         0.\n",
            " 0.         0.         0.         0.         0.         0.\n",
            " 0.         0.         0.        ]\n",
            "[-0.         -0.         -0.          0.         -0.          0.\n",
            " -0.          0.          0.         -0.          0.          0.\n",
            " -0.         -0.         -0.         -1.         -0.         -0.\n",
            " -0.          0.         -0.          0.         -0.         -0.\n",
            " -0.         -0.         -0.          0.          0.          0.\n",
            "  0.          0.         -0.          0.         -0.          0.\n",
            "  0.         -0.         -0.         -0.         -0.          0.\n",
            " -0.          0.         -0.          0.         -0.         -0.\n",
            " -0.         -0.          1.         -0.         -0.          0.\n",
            " -0.          0.         -0.         -0.          0.         -0.\n",
            "  0.33333333 -0.         -0.         -0.         -0.          0.\n",
            " -0.         -0.         -0.33333333 -0.         -0.         -0.\n",
            " -0.         -0.          0.         -0.          0.         -0.\n",
            " -0.         -0.         -0.         -0.         -0.         -0.\n",
            " -0.         -0.         -0.         -0.          0.         -0.\n",
            "  0.          0.          0.          0.         -0.         -0.\n",
            " -0.          0.         -0.         -0.          0.         -0.\n",
            "  0.         -0.          0.          0.          0.          0.\n",
            "  0.          0.         -0.         -0.          0.         -0.\n",
            " -0.          0.          0.          0.         -0.          0.\n",
            " -0.         -0.         -1.          0.          0.          0.\n",
            " -0.          0.         -0.         -0.          0.         -0.\n",
            " -0.         -0.         -0.          0.         -0.33333333  0.\n",
            " -0.         -0.         -0.         -0.         -0.         -0.\n",
            " -0.         -0.         -0.          1.          0.          0.\n",
            " -0.          0.         -0.          0.         -0.          0.\n",
            "  0.          0.         -0.         -0.          0.          0.\n",
            "  0.          0.          0.         -0.         -0.         -0.\n",
            " -0.          0.         -0.          0.          0.         -0.\n",
            "  0.         -0.         -0.          0.          0.          0.\n",
            "  0.         -0.          0.         -0.         -0.         -0.\n",
            " -0.         -0.         -0.         -0.          0.         -0.\n",
            "  0.          0.         -0.          0.          0.          0.\n",
            " -0.          0.         -0.         -0.         -0.         -0.\n",
            "  0.          0.         -0.         -0.          0.          0.33333333\n",
            "  0.         -0.         -0.          0.         -0.         -0.\n",
            "  0.         -0.          0.33333333 -0.          0.         -0.\n",
            " -0.          0.         -0.         -0.         -0.         -0.\n",
            "  0.         -0.          0.          0.         -0.         -0.\n",
            " -0.          0.         -0.         -0.          0.          0.\n",
            " -0.         -0.         -0.         -0.          0.         -0.\n",
            " -0.         -0.         -0.         -0.         -0.         -0.\n",
            "  0.         -0.         -0.         -0.          0.         -0.\n",
            "  0.          0.          0.          0.         -0.          0.\n",
            "  0.          0.         -0.         -0.          0.          0.\n",
            "  0.         -0.         -0.         -0.         -0.         -0.\n",
            " -0.         -0.          0.          0.          0.          0.\n",
            "  0.         -0.         -0.         -0.          0.          0.\n",
            "  0.          0.         -0.          0.          0.         -0.\n",
            " -0.33333333 -0.          0.         -0.         -0.          0.\n",
            "  0.         -0.         -0.         -0.         -0.          0.33333333\n",
            "  0.         -0.         -0.         -0.         -0.          0.\n",
            "  0.         -0.         -0.          0.          0.          0.\n",
            " -0.          0.          0.          0.          0.          0.33333333\n",
            " -0.         -0.          1.         -0.         -0.         -0.\n",
            " -0.         -0.         -0.         -0.         -0.          0.\n",
            "  0.          0.         -0.          0.         -0.         -0.\n",
            "  0.         -0.         -0.         -0.         -0.         -0.\n",
            "  0.         -0.         -0.          0.         -0.         -0.\n",
            " -0.         -0.         -0.         -0.         -0.          0.\n",
            " -0.         -0.33333333 -0.          0.          0.          0.33333333\n",
            "  0.         -0.         -0.         -0.         -0.         -0.\n",
            " -0.          0.         -0.         -0.         -0.          0.\n",
            " -0.         -0.         -0.         -0.         -0.          0.\n",
            "  0.         -0.          0.         -0.          0.         -0.\n",
            "  0.         -0.         -0.         -0.          0.          0.\n",
            "  0.         -0.         -0.        ]\n"
          ],
          "name": "stdout"
        }
      ]
    }
  ]
}