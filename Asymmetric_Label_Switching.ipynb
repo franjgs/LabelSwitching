{
  "nbformat": 4,
  "nbformat_minor": 0,
  "metadata": {
    "colab": {
      "name": "Untitled0.ipynb",
      "provenance": [],
      "toc_visible": true,
      "authorship_tag": "ABX9TyOy+tgOERJdyUuM5aXlbJPO",
      "include_colab_link": true
    },
    "kernelspec": {
      "name": "python3",
      "display_name": "Python 3"
    },
    "language_info": {
      "name": "python"
    }
  },
  "cells": [
    {
      "cell_type": "markdown",
      "metadata": {
        "id": "view-in-github",
        "colab_type": "text"
      },
      "source": [
        "<a href=\"https://colab.research.google.com/github/franjgs/LabelSwitching/blob/main/Asymmetric_Label_Switching.ipynb\" target=\"_parent\"><img src=\"https://colab.research.google.com/assets/colab-badge.svg\" alt=\"Open In Colab\"/></a>"
      ]
    },
    {
      "cell_type": "markdown",
      "metadata": {
        "id": "aYqCrl5xxtVc"
      },
      "source": [
        "# Label Switching\n",
        "\n",
        "---\n",
        "\n"
      ]
    },
    {
      "cell_type": "markdown",
      "metadata": {
        "id": "-j1f6txiyHre"
      },
      "source": [
        "## Ensembles\n",
        "\n",
        "Machine ensembles allow to improve the performance of single learning\n",
        "machines by aggregating the outputs of a number of them -learning units or\n",
        "learners- that are trained under diverse conditions [1, 2]. Since the 1990s,\n",
        "they served, in particular, to alleviate the practical limitations that the size\n",
        "of training datasets impose to the approximation capacity of shallow Multi-\n",
        "Layer Perceptrons (MLPs)."
      ]
    },
    {
      "cell_type": "markdown",
      "metadata": {
        "id": "zJOGrTKNzU0x"
      },
      "source": [
        "### Diversity"
      ]
    },
    {
      "cell_type": "markdown",
      "metadata": {
        "id": "xiNJXmbEzfII"
      },
      "source": [
        "#### Label Switching"
      ]
    },
    {
      "cell_type": "markdown",
      "metadata": {
        "id": "PD9c2OgEzXqA"
      },
      "source": [
        "## Imbalanced Problems"
      ]
    },
    {
      "cell_type": "markdown",
      "metadata": {
        "id": "1eRoMcBazlMs"
      },
      "source": [
        "# Code for Assymetric Label Switching"
      ]
    },
    {
      "cell_type": "code",
      "metadata": {
        "id": "ybQORDb2xr4o"
      },
      "source": [
        "import numpy as np"
      ],
      "execution_count": null,
      "outputs": []
    }
  ]
}