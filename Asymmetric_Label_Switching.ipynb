{
  "nbformat": 4,
  "nbformat_minor": 0,
  "metadata": {
    "colab": {
      "name": "Copia de Asymmetric_Label_Switching.ipynb",
      "provenance": [],
      "collapsed_sections": [],
      "toc_visible": true,
      "authorship_tag": "ABX9TyM6Ukx+MvSfDR0hnCZKZRFI",
      "include_colab_link": true
    },
    "kernelspec": {
      "name": "python3",
      "display_name": "Python 3"
    },
    "language_info": {
      "name": "python"
    }
  },
  "cells": [
    {
      "cell_type": "markdown",
      "metadata": {
        "id": "view-in-github",
        "colab_type": "text"
      },
      "source": [
        "<a href=\"https://colab.research.google.com/github/franjgs/LabelSwitching/blob/main/Asymmetric_Label_Switching.ipynb\" target=\"_parent\"><img src=\"https://colab.research.google.com/assets/colab-badge.svg\" alt=\"Open In Colab\"/></a>"
      ]
    },
    {
      "cell_type": "markdown",
      "source": [
        "#Imbalance datasets \n",
        "High imbalance occurs in many real-world application areas where the decision system is aimed to detect rare but important cases. Simply by listing some of them, data imbalance is found in the Information Technology area, in biomedical data, industrial applications, or in the financial area.\n",
        "\n",
        "The imbalance implies a difficulty for learning algorithms, since they will be biased towards the most frequent cases. To overcome such bias to majority samples, specific machine learning algorithms must be applied. This domain is known as learning from imbalanced data [[he2009learning](https://doi.org/10.1109/TKDE.2008.239)], [[fernandez2018learning](https://link.springer.com/book/10.1007/978-3-319-98074-4)].\n",
        "\n",
        " The approaches to dealing with imbalanced datasets are usually sorted\n",
        " into three categories: \n",
        "\n",
        "1.   Data-level methods concentrate on modifying the training set to make it \n",
        " suitable for a standard learning algorithm; balancing distributions by \n",
        " creating new objects for minority classes (oversampling and variations \n",
        " such as SMOTE [[chawla2002smote](https://doi.org/10.1613/jair.953)] and its different modifications, or removing examples from majority classes \n",
        " (undersampling belong to this category).\n",
        "2. Algorithm-level methods modify existing learning algorithms to \n",
        " alleviate the bias towards majority examples; cost-sensitive approaches \n",
        " [[lopez2012analysis](https://doi.org/10.1016/j.eswa.2011.12.043)], which assume higher misclassification\n",
        " costs for samples in the minority class fall in this category. \n",
        "3. Ensemble learning [[rokach2010ensemble](https://link.springer.com/article/10.1007/s10462-009-9124-7)] [[polikar2012ensemble](https://link.springer.com/chapter/10.1007/978-1-4419-9326-7_1)]\n",
        "is a multi-learner paradigm in which several models, or base learners,\n",
        "are trained using diverse examples, and their complementary (or\n",
        "uncorrelated) predictions are fused to yield a final decision."
      ],
      "metadata": {
        "id": "OGyrFbYFFLUW"
      }
    },
    {
      "cell_type": "markdown",
      "metadata": {
        "id": "-j1f6txiyHre"
      },
      "source": [
        "# Ensembles\n",
        "\n",
        "Machine ensembles allow to improve the performance of single learning\n",
        "machines by aggregating the outputs of a number of them -learning units or\n",
        "learners- that are trained under diverse conditions. Since the 1990s,\n",
        "they served, in particular, to alleviate the practical limitations that the size\n",
        "of training datasets impose to the approximation capacity of shallow Multi-\n",
        "Layer Perceptrons (MLPs)."
      ]
    },
    {
      "cell_type": "markdown",
      "metadata": {
        "id": "zJOGrTKNzU0x"
      },
      "source": [
        "## Diversity\n",
        "\n",
        "Ensemble diversity can be introduced in different ways: using bootstrap samples \n",
        "from the training data [[breiman1996bagging](https://link.springer.com/article/10.1007/BF00058655)]  modifying the empirical \n",
        "distribution of the data (either by resampling or re-weighting examples), \n",
        "manipulating the input features, or altering \n",
        "the output targets, or class labels."
      ]
    },
    {
      "cell_type": "markdown",
      "metadata": {
        "id": "uvQryZTj16mo"
      },
      "source": [
        "#### Bagging\n",
        "\n",
        "Bagging type diversifications (resampling) introduce some risks (deletion of critical samples, emphasis of outliers), which may create distortions in the class likelihoods."
      ]
    },
    {
      "cell_type": "markdown",
      "metadata": {
        "id": "xiNJXmbEzfII"
      },
      "source": [
        "#### Label Switching\n",
        "\n",
        "Class-switching ensembles get diversity by randomly modifying the\n",
        "class label of a fraction of instances of the training set\n",
        "[[breiman2000randomizing](https://link.springer.com/content/pdf/10.1023/A:1007682208299.pdf)]. This simple yet effective \n",
        "technique improves the classification accuracy of neural\n",
        "network ensembles outperforming bagging and boosting in some common\n",
        "imbalanced scenarios [[martinez2005switching](https://doi.org/10.1016/j.patcog.2005.02.020)]."
      ]
    },
    {
      "cell_type": "markdown",
      "metadata": {
        "id": "MVI0vA2n0R6H"
      },
      "source": [
        "#Asymmetric Label Switching\n",
        "\n",
        "As it was mentioned above, class-label switching improves the classification accuracy of neural network ensembles outperforming bagging and boosting in some common imbalanced scenarios. \n",
        "\n",
        "An obvious question that may arise is whether the diversity on majority and minority class should be equal or different. Our answer is to use asymmetric label-switching [[gutierrez2020asymmetric](https://doi.org/10.1016/j.inffus.2020.02.004)]."
      ]
    },
    {
      "cell_type": "markdown",
      "source": [
        "## Principle-based decision using Assymetric Label Switching\n",
        "Bayes theory establishes that the minimization of the average\n",
        "classification cost in a binary problem leads to the LR Test (LRT)\n",
        "[[van2001detection](https://onlinelibrary.wiley.com/doi/book/10.1002/0471221082)]:\n",
        "\n",
        "\\begin{equation}\n",
        "\tq (\\mathbf{x}) = \\frac{p(\\mathbf{x} | C_1)}{p(\\mathbf{x} | C_0)}\n",
        "\t\\underset{C_0}{\\overset{C_1}{\\gtrless}}\n",
        "\t\\frac{c_{10}-c_{00}}{c_{01}-c_{11}} \\frac{P_0}{P_1} = Q_{C}\n",
        "\tQ_{P}=Q \\label{eq:2.1}\n",
        "\\end{equation}\n",
        "\n",
        "where $\\mathbf{x}$ is the observed sample, $\\left\\{C_0, C_1\\right\\}$ ($\\equiv \\left\\{-1, +1 \\right\\}$) the\n",
        "classes (we assume that $C_1$ is the minority class),  $p(\\mathbf{x} | C_i)$ the class $C_i$ likelihood, $c_{ji}$ the\n",
        "cost of attributing a class $C_i$ sample to class $C_j$, $P_i$ the *a\n",
        "priori* probability of the class $C_i$, $Q_C= [c_{10} - c_{00}]/[c_{01} - c_{11}]$, and $Q_P=P_0/P_1$ (or, equivalently, the Imbalance Ratio, IR). "
      ],
      "metadata": {
        "id": "aJskAxeaJpIT"
      }
    },
    {
      "cell_type": "markdown",
      "source": [
        "\n",
        "The application of a random label switching with rates $\\alpha$ and $\\beta$\n",
        "to the $C_0$ and $C_1$ samples, respectively, and $\\alpha > \\beta$, results in a new and more balanced classification problem $S$, which will have *classes* \n",
        "$C_{1}^{\\prime}$ and $C_{0}^{\\prime}$. \n",
        "\n",
        "The new *class* probabilities will be given by\n",
        "\\begin{equation}\n",
        "\\mbox{Pr}_S (C_{1}^{\\prime} | \\mathbf{x})  = \\frac{p(\\mathbf{x} |\n",
        "\tC_1)( 1-\\beta ) P_1 + p(\\mathbf{x}|C_0) \\alpha P_0}{p(\\mathbf{x}|C_1)P_1 +\n",
        "\tp(\\mathbf{x}|C_0)P_0} \n",
        "\\label{eq:3.2}\n",
        "\\end{equation}"
      ],
      "metadata": {
        "id": "lLGfOkXcK_H0"
      }
    },
    {
      "cell_type": "markdown",
      "source": [
        "By adding and subtracting \n",
        "$\\alpha p(\\mathbf{x}|C_1)P_1$ to the numerator of the previous equation, we obtain\n",
        "\\begin{equation}\n",
        "\\mbox{Pr}_S (C_{1}^{\\prime} | \\mathbf{x}) = (1-\\alpha-\\beta) \\mbox{Pr}\n",
        "(C_{1} | \\mathbf{x}) + \\alpha\n",
        "\\label{eq:3.3}\n",
        "\\end{equation}\n",
        "from which\n",
        "\\begin{equation}\n",
        "\\mbox{Pr} (C_{1} | \\mathbf{x})=\\frac{\\mbox{Pr}_S (C_{1}^{\\prime} |\n",
        "\t\\mathbf{x})-\\alpha}{1-\\alpha-\\beta}\n",
        "\\label{eq:3.4}\n",
        "\\end{equation}\n",
        "i.e., we can recover (an estimate of) $\\mbox{Pr} (C_{1} | \\mathbf{x})$ from\n",
        "(an estimate of) $\\mbox{Pr}_S (C_{1}^{\\prime} | \\mathbf{x})$. "
      ],
      "metadata": {
        "id": "aIkEzeMdLwuc"
      }
    },
    {
      "cell_type": "markdown",
      "source": [
        "The use of Bregman divergences [[bregman1967relaxatio](https://doi.org/10.1016/0041-5553(67)90040-7)] provides an\n",
        "\testimate of the *a posteriori* statistical mean of $y$. For binary classification with $y_{n} = \\pm 1$, and a discriminative machine trained with a Bregman Loss Function, the machine's output is:\n",
        "  \\begin{equation}\n",
        "\t\to(\\mathbf{x}) = \\mbox{E} (y | \\mathbf{x}) =\n",
        "\t\t\\mbox{P}\\mbox{r}(C_1 | \\mathbf{x})-\\mbox{P}\\mbox{r}(C_0 |\n",
        "\t\t\\mathbf{x}) = 2 \\mbox{P}\\mbox{r}(C_1 | \\mathbf{x})-1\n",
        "\t\t\\label{eq:2.4}\n",
        "\t\\end{equation}\n",
        "\tand the *a priori* probability of (minority) class $C_1$\n",
        "\t\\begin{equation}\n",
        "\t    \\mbox{P}\\mbox{r}(C_1 | \\mathbf{x})=\\left[ o(\\mathbf{x})+1 \n",
        "\t\t\\right]/2 \\label{eq:2.5}\n",
        "  \\end{equation}"
      ],
      "metadata": {
        "id": "b_liLMw8MTjL"
      }
    },
    {
      "cell_type": "markdown",
      "source": [
        "Now, we can obtain an alternative expression for the LRT, derived by applying Bayes' rule and simple mathematical transformations, such as:\n",
        "    \t\\begin{equation}\n",
        "    \t\to(\\mathbf{x})\n",
        "    \t\t\\underset{C_0}{\\overset{C_1}{\\gtrless}} \\frac{Q-Q_P}{Q+Q_P} = \\eta \\label{eq:2.8b}\n",
        "    \t\t% \\frac{Q_C-1}{Q_C+1}\n",
        "    \t\\end{equation}"
      ],
      "metadata": {
        "id": "IoHp7F0_NZ3f"
      }
    },
    {
      "cell_type": "markdown",
      "metadata": {
        "id": "1eRoMcBazlMs"
      },
      "source": [
        "# Code for Assymetric Label Switching"
      ]
    },
    {
      "cell_type": "markdown",
      "metadata": {
        "id": "t3FD_Y4i8g4N"
      },
      "source": [
        "## Load some standard packages"
      ]
    },
    {
      "cell_type": "code",
      "metadata": {
        "id": "ybQORDb2xr4o"
      },
      "source": [
        "import numpy as np\n",
        "import pandas as pd\n",
        "\n",
        "import time\n",
        "import scipy.io as sio\n",
        "from scipy.interpolate import interp1d\n",
        "\n",
        "import matplotlib.pyplot as plt"
      ],
      "execution_count": null,
      "outputs": []
    },
    {
      "cell_type": "markdown",
      "source": [
        "## Performace Metrics"
      ],
      "metadata": {
        "id": "FYdqsnvHPi8Y"
      }
    },
    {
      "cell_type": "code",
      "metadata": {
        "id": "RhoNHTHZJJsA"
      },
      "source": [
        "from sklearn import metrics\n",
        "from sklearn.metrics import f1_score, roc_curve, auc, roc_auc_score\n",
        "from sklearn.preprocessing import StandardScaler\n",
        "\n",
        "def perf_measure(y_actual, y_hat):\n",
        "\n",
        "    TP = 0\n",
        "    FP = 0\n",
        "    TN = 0\n",
        "    FN = 0\n",
        "\n",
        "    for i in range(len(y_hat)):\n",
        "        if y_actual[i]==y_hat[i]:\n",
        "            if y_actual[i]==1:\n",
        "                TP += 1\n",
        "            else:\n",
        "                TN += 1\n",
        "        else:\n",
        "            if y_actual[i]==1:\n",
        "                FN += 1\n",
        "            else:\n",
        "                FP += 1\n",
        "\n",
        "    return TP, FP, TN, FN\n",
        "\n",
        "def ROC_points(L, f):\n",
        "\n",
        "  \"\"\"\n",
        "  Calculates the value of the discriminant function for a dx1 dimensional\n",
        "  sample given covariance matrix and mean vector.\n",
        "  \"\"\"\n",
        "\n",
        "  FPR=[]\n",
        "  TPR=[]\n",
        "  P=len(np.where(L==+1)[0])\n",
        "  N=len(np.where(L==-1)[0])\n",
        "\n",
        "  B=sorted(range(len(f)),key=lambda x:f[x],reverse=True)\n",
        "\n",
        "  L_sorted=L[B]\n",
        "  FP=0\n",
        "  TP=0\n",
        "  f_prev=1e45\n",
        "  i=0\n",
        "\n",
        "  while i < len(L_sorted):\n",
        "      if f[i] !=f_prev:\n",
        "          FPR.append(FP/float(N))\n",
        "          TPR.append(TP/float(P))\n",
        "          f_prev=f[i]\n",
        "      if L_sorted[i]==+1:\n",
        "          TP+=1\n",
        "      else:\n",
        "          FP+=1\n",
        "      i+=1\n",
        "\n",
        "  FPR.append(FP/float(N))\n",
        "  TPR.append(TP/float(P))\n",
        "\n",
        "  return FPR, TPR"
      ],
      "execution_count": null,
      "outputs": []
    },
    {
      "cell_type": "markdown",
      "source": [
        "## Base Learners"
      ],
      "metadata": {
        "id": "TAVl7jDTPnUN"
      }
    },
    {
      "cell_type": "code",
      "metadata": {
        "id": "f4QY8hMf9Rx0"
      },
      "source": [
        "from sklearn.linear_model import LogisticRegression\n",
        "from sklearn.naive_bayes import GaussianNB\n",
        "from sklearn.neural_network import MLPClassifier, MLPRegressor\n",
        "\n",
        "from sklearn.neighbors import KNeighborsClassifier\n",
        "from sklearn.svm import SVC\n",
        "from sklearn.gaussian_process import GaussianProcessClassifier\n",
        "from sklearn.gaussian_process.kernels import RBF\n",
        "from sklearn.tree import DecisionTreeClassifier\n",
        "from sklearn.discriminant_analysis import QuadraticDiscriminantAnalysis\n",
        "\n",
        "\n",
        "from sklearn.ensemble import RandomForestClassifier, VotingClassifier, GradientBoostingClassifier, AdaBoostClassifier\n",
        "\n",
        "nh = 4\n",
        "MLPc = MLPClassifier(solver='lbfgs', alpha = 0.1, activation = 'tanh', hidden_layer_sizes=(nh, ), max_iter=750) #, random_state=1)\n",
        "\n",
        "classifiers = [\n",
        "    KNeighborsClassifier(3),                                # 0. Accepatble performance \n",
        "    SVC(kernel=\"linear\", C=0.025, probability=True),        # 1. Very Bad performance. Very Slow (5-fold validation to estimate pyX)\n",
        "    SVC(gamma=2, C=1, probability=True),                    # 2. Very Bad performance. Very Slow (5-fold validation to estimate pyX)\n",
        "    GaussianProcessClassifier(1.0 * RBF(1.0)),              # 3. Very very Slow\n",
        "    DecisionTreeClassifier(max_depth=5),                    # 4. Accepatble performance \n",
        "    RandomForestClassifier(max_depth=5, n_estimators=3),    # 5. Bad Performace  max_features=1),\n",
        "    GradientBoostingClassifier(n_estimators = 3),           # 6. Very Bad performance\n",
        "    AdaBoostClassifier(n_estimators = 3, base_estimator = GaussianNB(), learning_rate=1),   # 7. Bad performance\n",
        "    GaussianNB(),                                           # 8. Medium Performace. Very Fast\n",
        "    QuadraticDiscriminantAnalysis(),                        # 9.  Accepatble performance. Very fast. Fails at execution\n",
        "    MLPc                                                    # 10. Best Performace. Slow convergence.\n",
        "    ]\n",
        "\n",
        "K_ens= [31] # Number of learners in the ensemble\n",
        "learner_ens = classifiers[10] # MLPc"
      ],
      "execution_count": null,
      "outputs": []
    },
    {
      "cell_type": "markdown",
      "source": [
        "## Population Rebalancing methods"
      ],
      "metadata": {
        "id": "TXiO_hEzPaRx"
      }
    },
    {
      "cell_type": "code",
      "source": [
        "from imblearn.over_sampling import RandomOverSampler, SMOTE, BorderlineSMOTE, KMeansSMOTE, ADASYN\n",
        "from imblearn.under_sampling import ClusterCentroids, RandomUnderSampler, NearMiss\n",
        "\n",
        "RB_method = {\n",
        "    'RandomOverSampler': RandomOverSampler,\n",
        "    'SMOTE': SMOTE,\n",
        "    'BorderlineSMOTE': BorderlineSMOTE, \n",
        "    'KMeansSMOTE': KMeansSMOTE, \n",
        "    'ADASYN': ADASYN,\n",
        "    'ClusterCentroids': ClusterCentroids, \n",
        "    'RandomUnderSampler': RandomUnderSampler, \n",
        "    'NearMiss': NearMiss\n",
        "    }\n",
        "rb_method = list(RB_method.keys())[1]"
      ],
      "metadata": {
        "id": "q683tpVJPUcd"
      },
      "execution_count": null,
      "outputs": []
    },
    {
      "cell_type": "markdown",
      "metadata": {
        "id": "YoYqy9t4-cJO"
      },
      "source": [
        "## Label Switching"
      ]
    },
    {
      "cell_type": "markdown",
      "metadata": {
        "id": "dccewfoi-fRp"
      },
      "source": [
        "Conventional (Symmetric) Switching "
      ]
    },
    {
      "cell_type": "code",
      "metadata": {
        "id": "oXnQv8TX9fOu"
      },
      "source": [
        "def breiman_switching(y, frsw=0.0):\n",
        "\n",
        "    # frsw: Label Switching Rate from Minority to Majority class\n",
        "\n",
        "    ysw=1*y;\n",
        "\n",
        "    idx1=np.where(y==+1)[0]\n",
        "    idx0=np.where(y==-1)[0]\n",
        "\n",
        "    n_flipped=int(round(len(idx1)*frsw))\n",
        "\n",
        "    idx1_sw=np.random.choice(idx1, n_flipped, replace=False)\n",
        "    ysw[idx1_sw]=-y[idx1_sw]\n",
        "\n",
        "    idx0_sw=np.random.choice(idx0, n_flipped, replace=False)\n",
        "    ysw[idx0_sw]=-y[idx0_sw]\n",
        "\n",
        "    return ysw"
      ],
      "execution_count": null,
      "outputs": []
    },
    {
      "cell_type": "markdown",
      "metadata": {
        "id": "a6_vlz-_-lVK"
      },
      "source": [
        "Asymmetric Label Switching"
      ]
    },
    {
      "cell_type": "code",
      "metadata": {
        "id": "Ov3hrLqM9uZD"
      },
      "source": [
        "def label_switching(y, alphasw=0.0, betasw=0.0):\n",
        "\n",
        "    # alphasw: Label Switching Rate from Majority to Minority class\n",
        "    # betasw: Label Switching Rate from Minority to Majority class\n",
        "\n",
        "    ysw=1*y;\n",
        "\n",
        "    idx1=np.where(y==+1)[0]\n",
        "    l1=len(idx1)\n",
        "    bet_1=int(round(l1*betasw))\n",
        "    idx1_sw=np.random.choice(idx1,bet_1, replace=False)\n",
        "    ysw[idx1_sw]=-y[idx1_sw]\n",
        "\n",
        "    idx0=np.where(y==-1)[0]\n",
        "    l0=len(idx0)\n",
        "    alph_0=int(round(l0*alphasw))\n",
        "    idx0_sw=np.random.choice(idx0,alph_0, replace=False)\n",
        "    ysw[idx0_sw]=-y[idx0_sw]\n",
        "\n",
        "    return ysw"
      ],
      "execution_count": null,
      "outputs": []
    },
    {
      "cell_type": "markdown",
      "metadata": {
        "id": "qHAXAnj9-r7J"
      },
      "source": [
        "## Load UCI Datasets"
      ]
    },
    {
      "cell_type": "markdown",
      "metadata": {
        "id": "156P6ndeKojO"
      },
      "source": [
        "Load the dataset via its URL and check the following:\n",
        "\n",
        "- Are the headers showing up properly?\n",
        "- Look at the first 5 and the last 5 rows, do they seem to be in order?\n",
        "- Does the dataset have the correct number of rows and columns as described in the UCI page? \n",
        " - Remember, that UCI does not count the y variable (column of values that we might want to predict via a machine learning model) as an \"attribute\" but rather as a \"class attribute\" so you may end up seeing a number of columns that is one greater than the number listed on the UCI website.\n",
        "- Does UCI list this dataset as having missing values? Check for missing values and see if your analysis corroborates what UCI reports?\n",
        "- if `NaN` values or other missing value indicators are not being detected by `df.isnull().sum()` find a way to replace whatever is indicating the missing values with `np.NaN`.\n",
        "- Use the .describe() function in order to see the summary statistics of both the numeric and non-numeric columns. "
      ]
    },
    {
      "cell_type": "code",
      "metadata": {
        "id": "oKVsp1lD_Z6v"
      },
      "source": [
        "# Load data from URL using pandas read_csv method\n",
        "filename_i='balance-scale'\n",
        "URL_path = 'https://archive.ics.uci.edu/ml/machine-learning-databases/'+filename_i+'/'+filename_i+'.data'\n",
        "# print(URL_path)\n",
        "Xy = pd.read_csv(URL_path)\n",
        "di = {'L': -1, 'B': +1, 'R': -1}\n",
        "Xy.replace({'B': di}, inplace=True)\n",
        "y = np.array(Xy['B'])\n",
        "X = np.array(Xy.drop(['B'], axis=1))"
      ],
      "execution_count": null,
      "outputs": []
    },
    {
      "cell_type": "code",
      "metadata": {
        "id": "xxh0rcSfg99D"
      },
      "source": [
        "\n",
        "filename_i='wine-quality'\n",
        "\n",
        "URL_path = 'https://archive.ics.uci.edu/ml/machine-learning-databases/'+filename_i+'/winequality-red.csv'\n",
        "# print(URL_path)\n",
        "Xy = pd.read_csv(URL_path,  sep=';')\n",
        "\n",
        "Xy['quality'] = Xy['quality'].apply(lambda x: +1 if x <= 4 else -1)\n",
        "y = np.array(Xy['quality'])\n",
        "X = np.array(Xy.drop(['quality'], axis=1))\n"
      ],
      "execution_count": null,
      "outputs": []
    },
    {
      "cell_type": "code",
      "metadata": {
        "id": "XbtAhP5HB995",
        "colab": {
          "base_uri": "https://localhost:8080/"
        },
        "outputId": "316fcd6a-e23f-4cc7-8563-4ca93a018a7b"
      },
      "source": [
        "dim = X.shape[1]\n",
        "\n",
        "N0 = len(np.where(y==-1)[0])\n",
        "N1 = len(np.where(y==1)[0])\n",
        "\n",
        "IR = N0/N1\n",
        "\n",
        "index0 = np.where(y==-1)[0]\n",
        "index1 = np.where(y==1)[0]\n",
        "\n",
        "print('N0: %d. N1: %d. IR = %.2f' % (N0 , N1, IR))"
      ],
      "execution_count": null,
      "outputs": [
        {
          "output_type": "stream",
          "name": "stdout",
          "text": [
            "N0: 1536. N1: 63. IR =24.38\n"
          ]
        }
      ]
    },
    {
      "cell_type": "code",
      "metadata": {
        "id": "LT8p0gEoEs2R"
      },
      "source": [
        "######## Costes y Probabilidades ########\n",
        "P0=float(N0)/float(N0+N1)\n",
        "P1=float(N1)/float(N0+N1)\n",
        "QP=P0/P1\n",
        "\n",
        "P0_1=0.5 # Para la balanced accuracy\n",
        "P1_1=0.5\n",
        "\n",
        "C10=1 # False Positive (FP)\n",
        "C00=0 # True Negative (TN)\n",
        "C01=5 # False Negative (FN)   : QC=1/5\n",
        "C11=0 # True Positive (TP)\n",
        "\n",
        "QC=float(C10-C00)/float(C01-C11)\n",
        "QCT=QC\n",
        "\n",
        "Q=QC*QP\n",
        "######## Costes y Probabilidades ########\n",
        "\n",
        "# Rebalance\n",
        "\n",
        "Q_RB_S = np.min((16, IR)) # Population\n",
        "Q_RB_C = [0]              # Cost\n",
        "\n",
        "if Q_RB_S == 0:\n",
        "    RB = Q_RB_C\n",
        "else:\n",
        "    RB = Q_RB_S\n",
        "\n",
        "rb = RB"
      ],
      "execution_count": null,
      "outputs": []
    },
    {
      "cell_type": "markdown",
      "metadata": {
        "id": "HqTn-3yXEr0v"
      },
      "source": [
        "## Common Parameters"
      ]
    },
    {
      "cell_type": "code",
      "metadata": {
        "id": "aeZr5kUcFH7y"
      },
      "source": [
        "###################### COMMON PARAMETERS ######################\n",
        "\n",
        "n_folds = 1\n",
        "Nruns   = 20\n",
        "Test_size = 25\n",
        "\n",
        "index0 = np.where(y==-1)[0]\n",
        "index1 = np.where(y==1)[0]\n",
        "\n",
        "l_test0 = int(N0*0.01*Test_size)\n",
        "l_test1 = int(N1*0.01*Test_size)\n",
        "\n",
        "Alpha = [0, 0.1, 0.2, 0.3, 0.4] # Label Switching Rate from Majority to Minority class    \n",
        "Beta = [0] # Label Switching Rate from Minority to Majority class\n",
        "eps=np.finfo(float).eps"
      ],
      "execution_count": null,
      "outputs": []
    },
    {
      "cell_type": "code",
      "metadata": {
        "id": "ZsLgusFHGaYP"
      },
      "source": [
        "filename_o=filename_i+'_NW_nh_'+str(nh)+'_TS_'+str(Test_size)+'.mat'\n",
        "\n",
        "perf_sw_K1 = np.zeros([Nruns, len(Alpha), len(Beta), len(K_ens), 6]) # Confusion Matrix + MCC + F1\n",
        "perf_sw_K2 = np.zeros([Nruns, len(Alpha), len(Beta), len(K_ens)])   # CBL\n",
        "perf_sw_K3 = np.zeros([Nruns, len(Alpha), len(Beta), len(K_ens)])   # AuC\n",
        "\n",
        "lROC=1001\n",
        "mean_fpr = np.logspace(-4, 0, lROC)\n",
        "perf_sw_K4=np.zeros([len(Alpha), len(Beta), len(K_ens), lROC, 2])     # Test:  ROC(FPR, TPR)\n",
        " "
      ],
      "execution_count": null,
      "outputs": []
    },
    {
      "cell_type": "markdown",
      "metadata": {
        "id": "TG3sCHobHNa5"
      },
      "source": [
        "## Main Loop\n"
      ]
    },
    {
      "cell_type": "code",
      "metadata": {
        "id": "ad2IG12lHP3I",
        "colab": {
          "base_uri": "https://localhost:8080/",
          "height": 583
        },
        "outputId": "88ebf047-8e1f-45a8-e857-512a2ccc849e"
      },
      "source": [
        "b_idx=0\n",
        "for beta in Beta:\n",
        "    a_idx=0\n",
        "    for alpha in Alpha:        \n",
        "        start = time.time()\n",
        "        for nruns in range(Nruns):\n",
        "            \n",
        "            idx0_test = np.random.choice(index0, l_test0, replace=False)\n",
        "            idx1_test = np.random.choice(index1, l_test1, replace=False)\n",
        "            idx_test = np.sort(np.concatenate((idx0_test, idx1_test), axis=0))\n",
        "\n",
        "            X_train = np.delete(X, idx_test, axis=0)\n",
        "            X_test = X[idx_test]\n",
        "            y_train = np.delete(y, idx_test, axis=0)\n",
        "            y_test = y[idx_test]\n",
        "                         \n",
        "            N0_tr = len(np.where(y_train==-1)[0])\n",
        "            N1_tr = len(np.where(y_train==1)[0])\n",
        "\n",
        "            P0_tr = float(N0_tr)/float(N0_tr+N1_tr)\n",
        "            P1_tr = float(N1_tr)/float(N0_tr+N1_tr)\n",
        "            \n",
        "            QP_tr = P0_tr/P1_tr\n",
        "\n",
        "            y_true = y_test\n",
        "\n",
        "            k_idx = 0\n",
        "            for K in K_ens:\n",
        "\n",
        "                o_x=np.ones([len(y_test)])\n",
        "\n",
        "                o_x_tst_ens=np.zeros([K,len(y_test)])\n",
        "\n",
        "                model_name=model_name = type(learner_ens).__name__                \n",
        "                MLP_ens = [learner_ens for kkk in range(K)]\n",
        "\n",
        "                for k in range(K):              \n",
        "                    #################### NORM ####################\n",
        "                    scaler = StandardScaler()\n",
        "                    scaler.fit(X_train)\n",
        "                    X_train_n = scaler.transform(X_train)\n",
        "                    y_train_n = y_train\n",
        "                    X_test_n = scaler.transform(X_test)\n",
        "                    #################### NORM ####################\n",
        "\n",
        "                    ################### Rebalance ################\n",
        "                    if Q_RB_S==0 or Q_RB_S==[0]:\n",
        "                      ind_ord = np.arange(len(y_train_n))\n",
        "                      ind_rnd = np.random.choice(ind_ord, size=len(y_train_n), replace=False)\n",
        "                      X_train_SM, y_train_SM = X_train_n[ind_rnd,:], y_train_n[ind_rnd]\n",
        "                    else:\n",
        "                      # print(\"SMOTE\")\n",
        "                      X_train_SMa, y_train_SMa = RB_method[rb_method](sampling_strategy=1/rb).fit_resample(X_train_n, y_train_n)\n",
        "                      ind_ord = np.arange(len(y_train_SMa))\n",
        "                      ind_rnd = np.random.choice(ind_ord, size=len(y_train_SMa), replace=False)\n",
        "                      X_train_SM, y_train_SM = X_train_SMa[ind_rnd,:], y_train_SMa[ind_rnd]\n",
        "                    \n",
        "                    ################## Switching ##################\n",
        "                    if alpha==0 and beta==0:\n",
        "                        X_train_s, y_train_s = X_train_SM, y_train_SM\n",
        "                    else:\n",
        "                        X_train_s = X_train_SM\n",
        "                        y_train_s = label_switching(y_train_SM, alpha, beta)\n",
        "                    \n",
        "                    \n",
        "                    N0_sw = len(np.where(y_train_s==-1)[0])\n",
        "                    N1_sw = len(np.where(y_train_s==1)[0])\n",
        "\n",
        "                    P0_sw = float(N0_sw)/float(N0_sw+N1_sw)\n",
        "                    P1_sw = float(N1_sw)/float(N0_sw+N1_sw)\n",
        "\n",
        "                    QP_sw = P0_sw/P1_sw\n",
        "                    ################## Switching #################\n",
        "                    MLP_ens[k] = MLP_ens[k].fit(X_train_s, y_train_s)\n",
        " \n",
        "                    y_pred = MLP_ens[k].predict_proba(X_test_n)[:,1]*2-1\n",
        "                    \n",
        "                    o_x_tst_ens[k] = y_pred\n",
        "                    \n",
        "                o_x_tst=o_x_tst_ens.mean(0)\n",
        "                pyX_test=(0.5*(o_x_tst+1)-alpha)/(1-alpha-beta)\n",
        "                \n",
        "                FPR_vec, TPR_vec, thresholds = roc_curve(y_true, pyX_test)\n",
        "                roc_auc = auc(FPR_vec, TPR_vec)\n",
        "                perf_sw_K3[nruns,a_idx,b_idx, k_idx] = roc_auc\n",
        "\n",
        "                f_ROC = interp1d(FPR_vec, TPR_vec)\n",
        "\n",
        "                perf_sw_K4[a_idx,b_idx,k_idx,:,0] += mean_fpr\n",
        "                perf_sw_K4[a_idx,b_idx,k_idx,:,1] += f_ROC(mean_fpr)\n",
        "\n",
        "                if rb == 0: # No rebalance. Only SW (No RB)\n",
        "                  gamma = (2 * (alpha + (1 - alpha - beta) * (QCT / (QCT + 1))) - 1)\n",
        "                else: # Rebalance\n",
        "                  gamma = (2 * (alpha + (1 - alpha - beta) * (QCT / (QCT + (rb/QP_tr)))) - 1) \n",
        " \n",
        "                o_x2=np.ones([len(y_test)])\n",
        "                o_x2[o_x_tst < gamma] = -1\n",
        "\n",
        "                TP, FP, TN, FN = perf_measure(y_true, o_x2) \n",
        "\n",
        "                # Sensitivity, hit rate, recall, or true positive rate\n",
        "                TPR=TP/float(TP+FN)\n",
        "\n",
        "                # Specificity (SPC) or true negative rate\n",
        "                SPC=TN/float(TN+FP)\n",
        "\n",
        "                # False positive rate: FPR=FP/float(FP+TN) = 1-SPC\n",
        "                FPR=1-SPC\n",
        "\n",
        "                # False negative rate\n",
        "                FNR=1-TPR\n",
        "\n",
        "                # Mathhews correlation coefficient\n",
        "                if (((TP + FP) == 0) or ((TP + FN) == 0) or ((TN + FP) == 0) or ((TN + FN) == 0)):\n",
        "                    MCC = 0\n",
        "                else:\n",
        "                    MCC = (TP * TN - FP * FN) / np.sqrt(float(TP + FP) * float(TP + FN) * float(TN + FP) * float(TN + FN))\n",
        "\n",
        "                # Accuracy\n",
        "                ACC=(TP+TN)/float(TP+FN+FP+TN)\n",
        "\n",
        "                # F1 Score\n",
        "                F1=2*TP/float(2*TP+FP+FN)\n",
        "\n",
        "                perf_sw_K1[nruns,a_idx,b_idx,k_idx,0]=FPR\n",
        "                perf_sw_K1[nruns,a_idx,b_idx,k_idx,1]=TPR\n",
        "                perf_sw_K1[nruns,a_idx,b_idx,k_idx,2]=SPC\n",
        "                perf_sw_K1[nruns,a_idx,b_idx,k_idx,3]=ACC\n",
        "                perf_sw_K1[nruns,a_idx,b_idx,k_idx,4]=MCC\n",
        "                perf_sw_K1[nruns,a_idx,b_idx,k_idx,5]=F1\n",
        "                perf_sw_K1[nruns,a_idx,b_idx,k_idx,6]= TP/float(TP+FP) # Precision\n",
        "                perf_sw_K1[nruns,a_idx,b_idx,k_idx]= np.sqrt((TP/float(TP+FP))*TPR) # G-Mean\n",
        "\n",
        "                perf_sw_K2[nruns,a_idx,b_idx,k_idx]=(FPR*P0_1+FNR*P1_1) # Balanced Accuracy\n",
        "\n",
        "                k_idx+=1\n",
        "\n",
        "        end = time.time()\n",
        "        print('TRAIN TIME:')\n",
        "        print('%.2gs'%(end-start))\n",
        "        print('Alpha: %.2f. Beta: %.2f. IR_sw: %.2f.'  %(alpha,beta,QP_sw))\n",
        "\n",
        "        \n",
        "        for k_idx in range(len(K_ens)):\n",
        "            print('MLP: %d. F1: %f. +- %f MCC: %f. +- %f TPR: %f. FPR: %f' %(K_ens[k_idx],\n",
        "                                                                             np.mean(perf_sw_K1[:,a_idx,b_idx,k_idx,5]), \n",
        "                                                                             np.std(perf_sw_K1[:,a_idx,b_idx,k_idx,5]), \n",
        "                                                                             np.mean(perf_sw_K1[:,a_idx,b_idx,k_idx,4]), \n",
        "                                                                             np.std(perf_sw_K1[:,a_idx,b_idx,k_idx,4]), \n",
        "                                                                             np.mean(perf_sw_K1[:,a_idx,b_idx,k_idx,1]), \n",
        "                                                                             np.mean(perf_sw_K1[:,a_idx,b_idx,k_idx,0])))\n",
        "        a_idx+=1\n",
        "    b_idx+=1\n"
      ],
      "execution_count": null,
      "outputs": [
        {
          "output_type": "stream",
          "name": "stdout",
          "text": [
            "TRAIN TIME:\n",
            "72s\n",
            "Alpha: 0.00. Beta: 0.00. IR_sw: 16.00.\n",
            "MLP: 31. F1: 0.265024. +- 0.080638 MCC: 0.244878. +- 0.091108 TPR: 0.420000. FPR: 0.068359\n",
            "TRAIN TIME:\n",
            "67s\n",
            "Alpha: 0.10. Beta: 0.00. IR_sw: 5.55.\n",
            "MLP: 31. F1: 0.271372. +- 0.085298 MCC: 0.261402. +- 0.102672 TPR: 0.493333. FPR: 0.083464\n",
            "TRAIN TIME:\n",
            "75s\n",
            "Alpha: 0.20. Beta: 0.00. IR_sw: 3.05.\n",
            "MLP: 31. F1: 0.261854. +- 0.058266 MCC: 0.250933. +- 0.070984 TPR: 0.483333. FPR: 0.085938\n",
            "TRAIN TIME:\n",
            "79s\n",
            "Alpha: 0.30. Beta: 0.00. IR_sw: 1.93.\n",
            "MLP: 31. F1: 0.242776. +- 0.048695 MCC: 0.229608. +- 0.056757 TPR: 0.463333. FPR: 0.092969\n",
            "TRAIN TIME:\n",
            "81s\n",
            "Alpha: 0.40. Beta: 0.00. IR_sw: 1.30.\n",
            "MLP: 31. F1: 0.222040. +- 0.049903 MCC: 0.208140. +- 0.063885 TPR: 0.446667. FPR: 0.098958\n"
          ]
        },
        {
          "output_type": "error",
          "ename": "IndexError",
          "evalue": "ignored",
          "traceback": [
            "\u001b[0;31m---------------------------------------------------------------------------\u001b[0m",
            "\u001b[0;31mIndexError\u001b[0m                                Traceback (most recent call last)",
            "\u001b[0;32m<ipython-input-35-00866a9e6606>\u001b[0m in \u001b[0;36m<module>\u001b[0;34m()\u001b[0m\n\u001b[1;32m    160\u001b[0m \u001b[0mperf_sw_K4\u001b[0m \u001b[0;34m/=\u001b[0m \u001b[0mn_folds\u001b[0m\u001b[0;34m*\u001b[0m\u001b[0mNruns\u001b[0m\u001b[0;34m\u001b[0m\u001b[0;34m\u001b[0m\u001b[0m\n\u001b[1;32m    161\u001b[0m \u001b[0;34m\u001b[0m\u001b[0m\n\u001b[0;32m--> 162\u001b[0;31m \u001b[0mtprPoints\u001b[0m \u001b[0;34m=\u001b[0m \u001b[0mperf_sw_K4\u001b[0m\u001b[0;34m[\u001b[0m\u001b[0;34m:\u001b[0m\u001b[0;34m,\u001b[0m\u001b[0;36m0\u001b[0m\u001b[0;34m,\u001b[0m\u001b[0;36m1\u001b[0m\u001b[0;34m,\u001b[0m\u001b[0;34m:\u001b[0m\u001b[0;34m,\u001b[0m\u001b[0;36m0\u001b[0m\u001b[0;34m]\u001b[0m\u001b[0;34m\u001b[0m\u001b[0;34m\u001b[0m\u001b[0m\n\u001b[0m\u001b[1;32m    163\u001b[0m \u001b[0mfprPoints\u001b[0m \u001b[0;34m=\u001b[0m \u001b[0mperf_sw_K4\u001b[0m\u001b[0;34m[\u001b[0m\u001b[0;34m:\u001b[0m\u001b[0;34m,\u001b[0m\u001b[0;36m0\u001b[0m\u001b[0;34m,\u001b[0m\u001b[0;36m1\u001b[0m\u001b[0;34m,\u001b[0m\u001b[0;34m:\u001b[0m\u001b[0;34m,\u001b[0m\u001b[0;36m1\u001b[0m\u001b[0;34m]\u001b[0m\u001b[0;34m\u001b[0m\u001b[0;34m\u001b[0m\u001b[0m\n\u001b[1;32m    164\u001b[0m \u001b[0mplt\u001b[0m\u001b[0;34m.\u001b[0m\u001b[0mplot\u001b[0m\u001b[0;34m(\u001b[0m\u001b[0mtprPoints\u001b[0m\u001b[0;34m[\u001b[0m\u001b[0;36m0\u001b[0m\u001b[0;34m,\u001b[0m\u001b[0;34m:\u001b[0m\u001b[0;34m]\u001b[0m\u001b[0;34m,\u001b[0m\u001b[0mfprPoints\u001b[0m\u001b[0;34m[\u001b[0m\u001b[0;36m0\u001b[0m\u001b[0;34m,\u001b[0m\u001b[0;34m:\u001b[0m\u001b[0;34m]\u001b[0m\u001b[0;34m,\u001b[0m \u001b[0mlabel\u001b[0m\u001b[0;34m=\u001b[0m\u001b[0;34m'Alpha 00'\u001b[0m\u001b[0;34m)\u001b[0m\u001b[0;34m\u001b[0m\u001b[0;34m\u001b[0m\u001b[0m\n",
            "\u001b[0;31mIndexError\u001b[0m: index 1 is out of bounds for axis 2 with size 1"
          ]
        }
      ]
    },
    {
      "cell_type": "markdown",
      "source": [
        "## Final Results"
      ],
      "metadata": {
        "id": "UPkmkUSsqGCh"
      }
    },
    {
      "cell_type": "code",
      "source": [
        "perf_sw_K1_std = np.std(perf_sw_K1, axis=0)\n",
        "perf_sw_K1 = np.mean(perf_sw_K1, axis=0)\n",
        "\n",
        "perf_sw_K2_std = np.std(perf_sw_K2, axis=0)\n",
        "perf_sw_K2 = np.mean(perf_sw_K2, axis=0)\n",
        "\n",
        "perf_sw_K3_std = np.std(perf_sw_K3, axis=0)\n",
        "perf_sw_K3 = np.mean(perf_sw_K3, axis=0)\n",
        "\n",
        "perf_sw_K4 /= n_folds*Nruns\n"
      ],
      "metadata": {
        "id": "5AwyS_ijgaQD"
      },
      "execution_count": null,
      "outputs": []
    },
    {
      "cell_type": "markdown",
      "source": [
        "### Graphical Representation"
      ],
      "metadata": {
        "id": "X1VJo6_-qJWl"
      }
    },
    {
      "cell_type": "code",
      "source": [
        "b_idx = 0 # Beta[0]\n",
        "for k_idx in range(len(K_ens)):\n",
        "  tprPoints = perf_sw_K4[:,b_idx,k_idx,:,0]\n",
        "  fprPoints = perf_sw_K4[:,b_idx,k_idx,:,1]\n",
        "  plt.plot(tprPoints[0,:],fprPoints[0,:], label=r'$\\alpha$=%.1f. AuC: %.2f. F1: %.2f. MCC: %.2f' % (Alpha[0], perf_sw_K3[0,0,0], perf_sw_K1[0,0,0,5], perf_sw_K1[0,0,0,4]))\n",
        "  plt.plot(tprPoints[1,:],fprPoints[1,:], label=r'$\\alpha$=%.1f. AuC: %.2f. F1: %.2f. MCC: %.2f' % (Alpha[1], perf_sw_K3[1,0,0], perf_sw_K1[1,0,0,5], perf_sw_K1[1,0,0,4]))\n",
        "  plt.plot(tprPoints[2,:],fprPoints[2,:], label=r'$\\alpha$=%.1f. AuC: %.2f. F1: %.2f. MCC: %.2f' % (Alpha[2], perf_sw_K3[2,0,0], perf_sw_K1[2,0,0,5], perf_sw_K1[2,0,0,4]))\n",
        "  plt.plot(tprPoints[3,:],fprPoints[3,:], label=r'$\\alpha$=%.1f. AuC: %.2f. F1: %.2f. MCC: %.2f' % (Alpha[3], perf_sw_K3[3,0,0], perf_sw_K1[3,0,0,5], perf_sw_K1[3,0,0,4]))\n",
        "  plt.plot(tprPoints[4,:],fprPoints[4,:], label=r'$\\alpha$=%.1f. AuC: %.2f. F1: %.2f. MCC: %.2f' % (Alpha[4], perf_sw_K3[4,0,0], perf_sw_K1[4,0,0,5], perf_sw_K1[4,0,0,4]))\n",
        "  plt.xlabel('TPR')\n",
        "  plt.xlabel('FPR')\n",
        "  plt.legend()\n",
        "  plt.title('ROC, F1 and MCC for dataset '+filename_i);\n",
        "  plt.gca().set_aspect('equal', adjustable='box')\n",
        "  plt.rcParams[\"figure.figsize\"] = (8,8)\n",
        "  plt.show()\n",
        "\n",
        "sio.savemat(model_name+'_'+filename_o, {'perf_sw_K1': perf_sw_K1,  \n",
        "                                        'perf_sw_K2': perf_sw_K2, \n",
        "                                        'perf_sw_K3': perf_sw_K3, \n",
        "                                        'perf_sw_K1_std': perf_sw_K1_std,  \n",
        "                                        'perf_sw_K2_std': perf_sw_K2_std, \n",
        "                                        'perf_sw_K3_std': perf_sw_K3_std, \n",
        "                                        'perf_sw_K4': perf_sw_K4, \n",
        "                                        'Alpha': Alpha, 'Beta': Beta, 'K_ens': K_ens})"
      ],
      "metadata": {
        "id": "JnTBa8QhgkhI",
        "outputId": "d88d5fd6-d226-41bd-a7b0-c14ff0c35ada",
        "colab": {
          "base_uri": "https://localhost:8080/",
          "height": 621
        }
      },
      "execution_count": null,
      "outputs": [
        {
          "output_type": "display_data",
          "data": {
            "text/plain": [
              "<Figure size 720x720 with 1 Axes>"
            ],
            "image/png": "[encoded data removed]"
          },
          "metadata": {
            "needs_background": "light"
          }
        }
      ]
    },
    {
      "cell_type": "code",
      "source": [
        "perf_sw_K4.shape\n",
        "Beta[0]\n"
      ],
      "metadata": {
        "id": "0hhYqc1-grqg",
        "outputId": "86d568c3-c7d8-4728-85d4-649e930461bb",
        "colab": {
          "base_uri": "https://localhost:8080/"
        }
      },
      "execution_count": null,
      "outputs": [
        {
          "output_type": "execute_result",
          "data": {
            "text/plain": [
              "0"
            ]
          },
          "metadata": {},
          "execution_count": 50
        }
      ]
    }
  ]
}